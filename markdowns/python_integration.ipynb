{
 "cells": [
  {
   "cell_type": "markdown",
   "id": "resident-primary",
   "metadata": {},
   "source": [
    "Author: dkesada\n",
    "\n",
    "## Integration of _dbnR_ with Python\n",
    "\n",
    "### Initial setup\n",
    "\n",
    "In this notebook I will explain how can we use the _dbnR_ package in Python by using the _rpy2_ library. It is very common to code in several languages, and I've come across the problem of having to use Python to deploy DBN models when all my code is done in R. Instead of porting it all to Python, I will show how can we use the _rpy2_ library to fit a DBN model and predict with it. This is not a perfect solution, but I have no plans in the near future to port all of _dbnR_ into Python and it gets the job done.\n",
    "\n",
    "First of all, we will need a working Python environment with _rpy2_ installed. In my case, I will be defining a new conda environment for this purpose:\n",
    "\n",
    "```Shell\n",
    "conda create -n rpy2 python=3.7.0\n",
    "conda activate rpy2\n",
    "conda install -c r rpy2\n",
    "```\n",
    "\n",
    "This will get us a working environment with a local R distribution that we will need to populate with our desired R packages, in our case _dbnR_ and its dependencies. This can also be done using only pip, the point is to get _rpy2_ up and running."
   ]
  },
  {
   "cell_type": "code",
   "execution_count": 6,
   "id": "affected-moisture",
   "metadata": {},
   "outputs": [
    {
     "name": "stdout",
     "output_type": "stream",
     "text": [
      "3.4.4\n"
     ]
    }
   ],
   "source": [
    "import rpy2\n",
    "print(rpy2.__version__)"
   ]
  },
  {
   "cell_type": "markdown",
   "id": "former-northern",
   "metadata": {},
   "source": [
    "Now that our environment prepared, we will proceed with the installation of _dbnR_ package into the new R distribution of _rpy2_ "
   ]
  },
  {
   "cell_type": "code",
   "execution_count": 1,
   "id": "fatty-invite",
   "metadata": {},
   "outputs": [
    {
     "name": "stdout",
     "output_type": "stream",
     "text": [
      "The R package \"dbnR\" is not installed.\n"
     ]
    }
   ],
   "source": [
    "import rpy2.robjects as robj\n",
    "import rpy2.robjects.packages as rpack\n",
    "from rpy2.rinterface_lib.embedded import RRuntimeError\n",
    "from rpy2.robjects.packages import PackageNotInstalledError\n",
    "\n",
    "try:\n",
    "    dbnR = rpack.importr('dbnR')\n",
    "except PackageNotInstalledError as e:\n",
    "    print(e)"
   ]
  },
  {
   "cell_type": "markdown",
   "id": "norwegian-apache",
   "metadata": {},
   "source": [
    "If you run into R '.dll' files not found errors after executing `import rpy2.robjects as robj`, then you need to fiddle with your environment variables, so that the R binaries are in your path. I had to add several environment variables on Windows. I'll list them in case it solves some possible problems in the future. Take care to put the correct R version, user name and path. Notice how I'm using miniconda, if you are using conda or not using it at all, you have to adjust the path to _rp2_ accordingly.\n",
    "\n",
    "User variables:\n",
    "\n",
    "* Path - C:\\Program Files\\R\\R-4.0.2\\bin\\x64\n",
    "\n",
    "* R_USER - C:\\Users\\\\<Your_username\\>\\Miniconda3\\envs\\rpy2\\Lib\\site-packages\\rpy2\n",
    "\n",
    "System variables:\n",
    "\n",
    "* R_HOME - C:\\Program Files\\R\\R-4.0.2 \n",
    "\n",
    "* R_USER - C:\\Program Files\\RStudio\\bin;C:\\Users\\\\<Your_username\\>\\Miniconda3\\envs\\rpy2\\Lib\\site-packages\\rpy2\n",
    "\n",
    "### Installation of _dbnR_\n",
    "\n",
    "The simplest way of doing this would be using the _utils_ base R package to install other packages from CRAN. In case we need to install the GitHub version, we first need the _devtools_ package and that is trickier. If we locate the R library of the _rpy2_ environment we could also install it by hand, but that would not be optimal.\n",
    "\n",
    "In the next chunk, we install the package using CRAN and give an option to print the path of the _rpy2_ R libraries:"
   ]
  },
  {
   "cell_type": "code",
   "execution_count": 12,
   "id": "unknown-variety",
   "metadata": {},
   "outputs": [
    {
     "name": "stdout",
     "output_type": "stream",
     "text": [
      "dbnR is already installed.\n"
     ]
    }
   ],
   "source": [
    "import rpy2.robjects as robj\n",
    "import rpy2.robjects.packages as rpackages\n",
    "\n",
    "show_path = False\n",
    "libpath = robj.r[\".libPaths\"]\n",
    "if(show_path):\n",
    "    print(\"The path to the libraries used by rpy2 is:\")\n",
    "    print(libpath())\n",
    "\n",
    "utils = rpackages.importr('utils')\n",
    "utils.chooseCRANmirror(ind=1)\n",
    "\n",
    "if(rpackages.isinstalled('dbnR')):\n",
    "    print(\"dbnR is already installed.\")\n",
    "\n",
    "else:\n",
    "    utils.install_packages('dbnR')\n",
    "    print(\"dbnR was successfully installed.\")\n"
   ]
  }
 ],
 "metadata": {
  "kernelspec": {
   "display_name": "rpy2",
   "language": "python",
   "name": "rpy2"
  },
  "language_info": {
   "codemirror_mode": {
    "name": "ipython",
    "version": 3
   },
   "file_extension": ".py",
   "mimetype": "text/x-python",
   "name": "python",
   "nbconvert_exporter": "python",
   "pygments_lexer": "ipython3",
   "version": "3.7.0"
  }
 },
 "nbformat": 4,
 "nbformat_minor": 5
}
